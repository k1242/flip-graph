{
 "cells": [
  {
   "cell_type": "code",
   "execution_count": 1,
   "id": "cdc3d239",
   "metadata": {
    "ExecuteTime": {
     "end_time": "2025-03-02T13:18:06.902396Z",
     "start_time": "2025-03-02T13:18:05.565459Z"
    }
   },
   "outputs": [],
   "source": [
    "import os\n",
    "os.chdir(\"..\")\n",
    "\n",
    "import torch\n",
    "import numpy as np\n",
    "from tqdm import tqdm\n",
    "\n",
    "from flipgraph import int2bin, bin2int"
   ]
  },
  {
   "cell_type": "code",
   "execution_count": 2,
   "id": "42ff88df",
   "metadata": {
    "ExecuteTime": {
     "end_time": "2025-03-02T13:18:06.911315Z",
     "start_time": "2025-03-02T13:18:06.905957Z"
    }
   },
   "outputs": [],
   "source": [
    "device = torch.device(\"cpu\")"
   ]
  },
  {
   "cell_type": "markdown",
   "id": "a96f3a4d",
   "metadata": {},
   "source": [
    "## Функции"
   ]
  },
  {
   "cell_type": "code",
   "execution_count": 3,
   "id": "5b051045",
   "metadata": {
    "ExecuteTime": {
     "end_time": "2025-03-02T13:18:07.115941Z",
     "start_time": "2025-03-02T13:18:07.108174Z"
    }
   },
   "outputs": [],
   "source": [
    "def naive_decomposition(M, batch_size=1, dtype=torch.int16):\n",
    "    \"\"\"\n",
    "    Generate a naive rank-n decomposition of boolean matrix M.\n",
    "    \n",
    "    Args:\n",
    "        M (torch.Tensor): A boolean matrix of shape (n, m).\n",
    "        batch_size (int): Number of identical decompositions to generate.\n",
    "        \n",
    "    Returns:\n",
    "        torch.Tensor: A tensor of shape (batch_size, 2, n) where:\n",
    "                     UV[b, 0, i] is the binary-encoded u_i vector\n",
    "                     UV[b, 1, i] is the binary-encoded v_i vector\n",
    "    \"\"\"\n",
    "    n, m = M.shape\n",
    "    device = M.device\n",
    "    \n",
    "    # u vectors: one-hot encodings (as powers of 2)\n",
    "    u = (1 << torch.arange(n, device=device, dtype=dtype))\n",
    "    \n",
    "    # v vectors: binary encoding of rows of M\n",
    "    powers = (1 << torch.arange(m, device=device, dtype=dtype))\n",
    "    v = (M * powers).sum(dim=1).to(dtype)\n",
    "    \n",
    "    # Stack and repeat for batch_size\n",
    "    UV = torch.stack([u, v]).unsqueeze(0).repeat(batch_size, 1, 1)\n",
    "    \n",
    "    return UV"
   ]
  },
  {
   "cell_type": "code",
   "execution_count": 4,
   "id": "43f2b1a8",
   "metadata": {
    "ExecuteTime": {
     "end_time": "2025-03-02T13:18:08.608328Z",
     "start_time": "2025-03-02T13:18:08.596484Z"
    }
   },
   "outputs": [],
   "source": [
    "def flip(UV):\n",
    "    \"\"\"\n",
    "    In-place flip operation on batch of matrix decompositions.\n",
    "    For each decomposition, selects a random pair of dyads and performs a flip.\n",
    "    \n",
    "    Args:\n",
    "        UV (torch.Tensor): Tensor of shape (batch_size, 2, r) containing decompositions\n",
    "    \"\"\"\n",
    "    batch_size, _, r = UV.shape\n",
    "    device = UV.device\n",
    "    \n",
    "    # Select random pairs and ensure i != j\n",
    "    i, j = torch.randint(0, r, (2, batch_size), device=device)\n",
    "    j = torch.where(i == j, (j + 1) % r, j)\n",
    "    idx = torch.arange(batch_size, device=device)\n",
    "    \n",
    "    # Update values in-place\n",
    "    UV[idx, 0, i] ^= UV[idx, 0, j]\n",
    "    UV[idx, 1, j] ^= UV[idx, 1, i]"
   ]
  },
  {
   "cell_type": "code",
   "execution_count": 5,
   "id": "7726b02a",
   "metadata": {
    "ExecuteTime": {
     "end_time": "2025-03-02T13:18:10.085969Z",
     "start_time": "2025-03-02T13:18:10.071832Z"
    }
   },
   "outputs": [],
   "source": [
    "def int2bin(tensor, bit_width):\n",
    "    \"\"\"Convert integer values to their binary representation.\"\"\"\n",
    "    return (tensor[..., None] >> torch.arange(bit_width, device=tensor.device, dtype=tensor.dtype)) & 1\n",
    "\n",
    "def reconstruct(UV, M_shape):\n",
    "    \"\"\"\n",
    "    Reconstruct the original matrix from a decomposition using efficient tensor operations.\n",
    "    \n",
    "    Args:\n",
    "        UV (torch.Tensor): Tensor of shape (batch_size, 2, r) containing decompositions\n",
    "        M_shape (tuple): Shape of the original matrix (n, m)\n",
    "        logic (bool): If True, use boolean logic (OR), else use XOR (mod-2)\n",
    "    \n",
    "    Returns:\n",
    "        torch.Tensor: Batch of reconstructed matrices of shape (batch_size, n, m)\n",
    "    \"\"\"\n",
    "    n, m = M_shape\n",
    "    device = UV.device\n",
    "    \n",
    "    # Convert integers to binary\n",
    "    u_bin = int2bin(UV[:, 0, :], n)  # Shape: (batch_size, r, n)\n",
    "    v_bin = int2bin(UV[:, 1, :], m)  # Shape: (batch_size, r, m)\n",
    "    \n",
    "    return torch.einsum('bri,brj->bij', u_bin, v_bin) % 2\n",
    "\n",
    "def check_uv(UV, M):\n",
    "    \"\"\"\n",
    "    Check if the decomposition correctly reconstructs the original matrix.\n",
    "    \n",
    "    Args:\n",
    "        UV (torch.Tensor): Tensor of shape (batch_size, 2, r) containing decompositions\n",
    "        M (torch.Tensor): Original matrix of shape (n, m)\n",
    "    \n",
    "    Returns:\n",
    "        torch.Tensor: Boolean tensor of shape (batch_size,) indicating correct reconstructions\n",
    "    \"\"\"\n",
    "    M_recon = reconstruct(UV, M.shape)\n",
    "    return (M_recon == M.unsqueeze(0)).all(dim=(1, 2))"
   ]
  },
  {
   "cell_type": "code",
   "execution_count": 15,
   "id": "e33934e8",
   "metadata": {
    "ExecuteTime": {
     "end_time": "2025-03-02T13:25:26.865163Z",
     "start_time": "2025-03-02T13:25:26.853321Z"
    }
   },
   "outputs": [],
   "source": [
    "def reducible(UV):\n",
    "    \"\"\"\n",
    "    Check if the decomposition UV is reducible.\n",
    "    Reducible means there exist two dyads (u_i, v_i) and (u_j, v_j) such that \n",
    "    either u_i = u_j or v_i = v_j.\n",
    "    \n",
    "    Args:\n",
    "        UV (torch.Tensor): Tensor of shape (batch_size, 2, r) containing decompositions\n",
    "    \n",
    "    Returns:\n",
    "        torch.Tensor: Boolean tensor of shape (batch_size,) indicating which decompositions are reducible\n",
    "    \"\"\"\n",
    "    batch_size, _, r = UV.shape\n",
    "    mask = torch.zeros(batch_size, dtype=torch.bool, device=UV.device)\n",
    "    \n",
    "    # Check for identical vectors in either dimension\n",
    "    for dim in range(2):\n",
    "        sorted_vec, _ = torch.sort(UV[:, dim, :], dim=1)\n",
    "        mask |= (sorted_vec[:, 1:] == sorted_vec[:, :-1]).any(dim=1)\n",
    "    \n",
    "    return mask"
   ]
  },
  {
   "cell_type": "code",
   "execution_count": 19,
   "id": "eb94b382",
   "metadata": {
    "ExecuteTime": {
     "end_time": "2025-03-02T13:25:45.381947Z",
     "start_time": "2025-03-02T13:25:45.370033Z"
    }
   },
   "outputs": [],
   "source": [
    "def reduce(UV):\n",
    "    \"\"\"\n",
    "    Reduce a batch of decompositions UV by finding and merging redundant dyads.\n",
    "    If there are dyads (u_i, v_i) and (u_j, v_j) such that u_i = u_j, then\n",
    "    remove dyad j and update v_i = v_i ^ v_j. Similarly if v_i = v_j.\n",
    "    \n",
    "    Args:\n",
    "        UV (torch.Tensor): Tensor of shape (batch_size, 2, r) containing decompositions\n",
    "    \n",
    "    Returns:\n",
    "        torch.Tensor: Reduced decompositions of shape (batch_size, 2, r-1)\n",
    "    \"\"\"\n",
    "    batch_size, _, r = UV.shape\n",
    "    device = UV.device\n",
    "    ar_batch = torch.arange(batch_size, device=device)\n",
    "    \n",
    "    # Find duplicate pair candidates\n",
    "    cand_i = torch.empty(batch_size, dtype=torch.long, device=device)\n",
    "    cand_j = torch.empty(batch_size, dtype=torch.long, device=device)\n",
    "    cand_dim = torch.empty(batch_size, dtype=torch.long, device=device)\n",
    "    found = torch.zeros(batch_size, dtype=torch.bool, device=device)\n",
    "    \n",
    "    # Check for identical vectors in one dimension\n",
    "    for dim in range(2):\n",
    "        dup = torch.triu(UV[:, dim, :][:, :, None] == UV[:, dim, :][:, None, :], diagonal=1)\n",
    "        dup_flat = dup.view(batch_size, -1)\n",
    "        has_dup = dup_flat.any(dim=1)\n",
    "        cand = (~found) & has_dup\n",
    "        if cand.any():\n",
    "            idx = cand.nonzero(as_tuple=True)[0]\n",
    "            pos = dup_flat[idx].float().argmax(dim=1)\n",
    "            cand_i[idx] = pos // r\n",
    "            cand_j[idx] = pos % r\n",
    "            cand_dim[idx] = dim\n",
    "            found[idx] = True\n",
    "    \n",
    "    # Determine the other dimension\n",
    "    other_dim = 1 - cand_dim\n",
    "    \n",
    "    # Remove duplicate dyad j from each state\n",
    "    idx_all = torch.arange(r, device=device).unsqueeze(0).expand(batch_size, r)\n",
    "    mask = idx_all != cand_j.unsqueeze(1)\n",
    "    new_idx = idx_all[mask].view(batch_size, r-1)\n",
    "    UV_red = torch.gather(UV, 2, new_idx.unsqueeze(1).expand(batch_size, 2, r-1))\n",
    "    \n",
    "    # Merging: update the other dimension at merged index\n",
    "    merge_idx = torch.where(cand_i < cand_j, cand_i, cand_i - 1)\n",
    "    UV_red[ar_batch, other_dim, merge_idx] = UV[ar_batch, other_dim, cand_i] ^ UV[ar_batch, other_dim, cand_j]\n",
    "    \n",
    "    return UV_red"
   ]
  },
  {
   "cell_type": "markdown",
   "id": "e0ac7d73",
   "metadata": {},
   "source": [
    "## Process"
   ]
  },
  {
   "cell_type": "code",
   "execution_count": 92,
   "id": "cc72cca0",
   "metadata": {
    "ExecuteTime": {
     "end_time": "2025-03-02T13:33:44.335727Z",
     "start_time": "2025-03-02T13:33:42.756297Z"
    }
   },
   "outputs": [
    {
     "name": "stderr",
     "output_type": "stream",
     "text": [
      "r = 6, q = 10_000:  50%|█████     | 502/1000 [00:00<00:00, 1843.11it/s]\n"
     ]
    },
    {
     "name": "stdout",
     "output_type": "stream",
     "text": [
      "# reducible : 10_000\n"
     ]
    },
    {
     "name": "stderr",
     "output_type": "stream",
     "text": [
      "r = 5, q = 10_000:  50%|█████     | 504/1000 [00:00<00:00, 1926.05it/s]\n"
     ]
    },
    {
     "name": "stdout",
     "output_type": "stream",
     "text": [
      "# reducible : 10_000\n"
     ]
    },
    {
     "name": "stderr",
     "output_type": "stream",
     "text": [
      "100%|██████████| 1000/1000 [00:01<00:00, 969.96it/s]"
     ]
    },
    {
     "name": "stdout",
     "output_type": "stream",
     "text": [
      "No reducible states (r=4).\n"
     ]
    },
    {
     "name": "stderr",
     "output_type": "stream",
     "text": [
      "\n"
     ]
    }
   ],
   "source": [
    "n = 6\n",
    "M = torch.randint(0, 1+1, (n,n), device=device)\n",
    "\n",
    "N = 10_000\n",
    "UV = naive_decomposition(M, N)\n",
    "\n",
    "L = 1000\n",
    "\n",
    "for _ in range(3):\n",
    "    if UV.size(0) != N:\n",
    "        idx = torch.randint(0, UV.size(0), (N,), device=device)\n",
    "        UV = UV[idx].clone()\n",
    "\n",
    "    q = 0\n",
    "    UV_rf = torch.zeros((N, 2, UV.size(2)-1), device=UV.device, dtype=UV.dtype)\n",
    "    pbar = tqdm(range(L))\n",
    "    for j in pbar:\n",
    "        flip(UV)\n",
    "        \n",
    "        if j > 500:\n",
    "            reducible_mask = reducible(UV)\n",
    "            if reducible_mask.sum() > 0:\n",
    "                UV_reduced = reduce(UV[reducible_mask])\n",
    "                s = min(UV_reduced.size(0), N-q)\n",
    "                if s > 0:\n",
    "                    UV_rf[q:q+s] = UV_reduced[:s]\n",
    "                    q += s\n",
    "                pbar.set_description(f\"r = {UV.size(2)}, q = {q:_}\")\n",
    "                if q == N:\n",
    "                    break\n",
    "\n",
    "    if q > 0:\n",
    "        UV = UV_rf[:q].clone()\n",
    "#         torch.save(UV.cpu(), f\"data/uv-n{n1}-r{UV.size(2)}-tmp.pt\")\n",
    "        print(f\"# reducible : {UV.size(0):_}\")\n",
    "        if not check_uv(UV, M).min().item():\n",
    "            raise ValueError(\"Wrong decomposition detected.\")\n",
    "    else:\n",
    "        print(f\"No reducible states (r={UV.size(2)}).\")\n",
    "        break"
   ]
  },
  {
   "cell_type": "code",
   "execution_count": 106,
   "id": "cb110ecd",
   "metadata": {
    "ExecuteTime": {
     "end_time": "2025-03-02T13:36:11.423147Z",
     "start_time": "2025-03-02T13:36:11.410094Z"
    }
   },
   "outputs": [
    {
     "data": {
      "text/plain": [
       "tensor([[0, 0, 0, 1, 1, 1],\n",
       "        [1, 0, 0, 1, 1, 0],\n",
       "        [1, 0, 0, 0, 0, 1],\n",
       "        [0, 0, 0, 0, 1, 1],\n",
       "        [0, 0, 0, 1, 1, 1],\n",
       "        [0, 1, 1, 1, 0, 1]])"
      ]
     },
     "execution_count": 106,
     "metadata": {},
     "output_type": "execute_result"
    }
   ],
   "source": [
    "M"
   ]
  },
  {
   "cell_type": "code",
   "execution_count": 107,
   "id": "2f3689d9",
   "metadata": {
    "ExecuteTime": {
     "end_time": "2025-03-02T13:36:15.499478Z",
     "start_time": "2025-03-02T13:36:15.487274Z"
    }
   },
   "outputs": [
    {
     "name": "stdout",
     "output_type": "stream",
     "text": [
      "U =\n",
      " [[1, 1, 0, 0, 1, 0], [1, 1, 0, 0, 1, 1], [1, 1, 0, 1, 1, 0], [0, 1, 1, 0, 0, 1]]\n",
      "V =\n",
      " [[1, 1, 1, 0, 0, 0], [1, 1, 1, 1, 0, 0], [0, 0, 0, 0, 1, 1], [1, 0, 0, 0, 0, 1]]\n"
     ]
    }
   ],
   "source": [
    "print(\"U =\\n\", int2bin(UV[:1, 0], n)[0].cpu().tolist())\n",
    "print(\"V =\\n\", int2bin(UV[:1, 1], n)[0].cpu().tolist())"
   ]
  },
  {
   "cell_type": "code",
   "execution_count": null,
   "id": "663b8da0",
   "metadata": {},
   "outputs": [],
   "source": []
  }
 ],
 "metadata": {
  "kernelspec": {
   "display_name": "Python (ka1242_env)",
   "language": "python",
   "name": "ka1242_env"
  },
  "language_info": {
   "codemirror_mode": {
    "name": "ipython",
    "version": 3
   },
   "file_extension": ".py",
   "mimetype": "text/x-python",
   "name": "python",
   "nbconvert_exporter": "python",
   "pygments_lexer": "ipython3",
   "version": "3.9.16"
  }
 },
 "nbformat": 4,
 "nbformat_minor": 5
}
