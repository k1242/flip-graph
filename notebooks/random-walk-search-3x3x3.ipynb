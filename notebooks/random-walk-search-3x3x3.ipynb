{
 "cells": [
  {
   "cell_type": "code",
   "execution_count": 1,
   "id": "1febdfc4",
   "metadata": {
    "ExecuteTime": {
     "end_time": "2025-02-23T21:04:24.431960Z",
     "start_time": "2025-02-23T21:04:22.710025Z"
    }
   },
   "outputs": [],
   "source": [
    "import os\n",
    "os.chdir(\"..\")\n",
    "\n",
    "import torch\n",
    "import numpy as np\n",
    "from tqdm import tqdm\n",
    "\n",
    "from flipgraph import int2bin, bin2int, reconstruct\n",
    "from flipgraph import generate_triads_binary, build_tensor, check_uvw\n",
    "from flipgraph import flip, flippable, reduce, reducible"
   ]
  },
  {
   "cell_type": "code",
   "execution_count": 2,
   "id": "fbc2cd72",
   "metadata": {
    "ExecuteTime": {
     "end_time": "2025-02-23T21:04:24.443101Z",
     "start_time": "2025-02-23T21:04:24.437556Z"
    }
   },
   "outputs": [],
   "source": [
    "device = torch.device('cuda')"
   ]
  },
  {
   "cell_type": "code",
   "execution_count": 3,
   "id": "ef726a5a",
   "metadata": {
    "ExecuteTime": {
     "end_time": "2025-02-23T21:04:24.681393Z",
     "start_time": "2025-02-23T21:04:24.445827Z"
    }
   },
   "outputs": [],
   "source": [
    "n1 = 3\n",
    "n2 = 3\n",
    "n3 = 3\n",
    "\n",
    "dims = (n1 * n3, n1 * n2, n2 * n3)\n",
    "uvw_dtype = torch.int16 # should be ≥ max(dims)\n",
    "T = build_tensor(n1, n2, n3).to(device)"
   ]
  },
  {
   "cell_type": "code",
   "execution_count": 4,
   "id": "637c0562",
   "metadata": {
    "ExecuteTime": {
     "end_time": "2025-02-23T21:04:24.719906Z",
     "start_time": "2025-02-23T21:04:24.689635Z"
    }
   },
   "outputs": [
    {
     "name": "stdout",
     "output_type": "stream",
     "text": [
      "r = 27\n"
     ]
    }
   ],
   "source": [
    "N = 100_000\n",
    "\n",
    "UVW = generate_triads_binary(n1, n2, n3, dims, uvw_dtype)[None]\n",
    "r = UVW.size(2)\n",
    "ar_N = torch.arange(N, device=device)\n",
    "print(f\"{r = }\")\n",
    "\n",
    "UVW = UVW.to(device).repeat(N, 1, 1)"
   ]
  },
  {
   "cell_type": "code",
   "execution_count": 5,
   "id": "ead93b9e",
   "metadata": {
    "ExecuteTime": {
     "end_time": "2025-02-23T21:04:24.726936Z",
     "start_time": "2025-02-23T21:04:24.722109Z"
    }
   },
   "outputs": [],
   "source": [
    "os.makedirs(\"data\", exist_ok=True)"
   ]
  },
  {
   "cell_type": "code",
   "execution_count": 6,
   "id": "942d5bbb",
   "metadata": {
    "ExecuteTime": {
     "end_time": "2025-02-23T21:04:40.723714Z",
     "start_time": "2025-02-23T21:04:24.729361Z"
    }
   },
   "outputs": [
    {
     "name": "stderr",
     "output_type": "stream",
     "text": [
      "r = 27, q = 100_000, d = 18.43 ± 2.76:  62%|██████▏   | 615/1000 [00:02<00:01, 205.79it/s]\n"
     ]
    },
    {
     "name": "stdout",
     "output_type": "stream",
     "text": [
      "# reducible : 100_000\n"
     ]
    },
    {
     "name": "stderr",
     "output_type": "stream",
     "text": [
      "r = 26, q = 100_000, d = 15.18 ± 2.53:  60%|█████▉    | 596/1000 [00:02<00:01, 228.53it/s]\n"
     ]
    },
    {
     "name": "stdout",
     "output_type": "stream",
     "text": [
      "# reducible : 100_000\n"
     ]
    },
    {
     "name": "stderr",
     "output_type": "stream",
     "text": [
      "r = 25, q = 100_000, d = 11.95 ± 2.21:  64%|██████▎   | 636/1000 [00:02<00:01, 225.86it/s]\n"
     ]
    },
    {
     "name": "stdout",
     "output_type": "stream",
     "text": [
      "# reducible : 100_000\n"
     ]
    },
    {
     "name": "stderr",
     "output_type": "stream",
     "text": [
      "r = 24, q = 100_000, d = 8.60 ± 1.84:  88%|████████▊ | 879/1000 [00:04<00:00, 198.66it/s]\n"
     ]
    },
    {
     "name": "stdout",
     "output_type": "stream",
     "text": [
      "# reducible : 100_000\n"
     ]
    },
    {
     "name": "stderr",
     "output_type": "stream",
     "text": [
      "d = 4.83 ± 1.46: 100%|██████████| 1000/1000 [00:02<00:00, 355.38it/s]"
     ]
    },
    {
     "name": "stdout",
     "output_type": "stream",
     "text": [
      "No reducible & flippable states (r=23).\n"
     ]
    },
    {
     "name": "stderr",
     "output_type": "stream",
     "text": [
      "\n"
     ]
    }
   ],
   "source": [
    "L = 1000\n",
    "remove_unflippable = True\n",
    "\n",
    "for _ in range(18):\n",
    "    if UVW.size(0) != N:\n",
    "        idx = torch.randint(0, UVW.size(0), (N,), device=device)\n",
    "        UVW = UVW[idx].clone()\n",
    "\n",
    "    q = 0\n",
    "    UVW_rf = torch.zeros((N, 3, UVW.size(2)-1), device=UVW.device, dtype=UVW.dtype)\n",
    "    pbar = tqdm(range(L))\n",
    "    for j in pbar:\n",
    "        deg = flip(UVW)\n",
    "        deg = deg.float()\n",
    "        \n",
    "        if j > 500:\n",
    "            reducible_mask = reducible(UVW)\n",
    "            if reducible_mask.sum() > 0:\n",
    "                UVW_reduced = reduce(UVW[reducible_mask])\n",
    "                if remove_unflippable:\n",
    "                    UVW_reduced = UVW_reduced[flippable(UVW_reduced)]\n",
    "                s = min(UVW_reduced.size(0), N-q)\n",
    "                if s > 0:\n",
    "                    UVW_rf[q:q+s] = UVW_reduced[:s]\n",
    "                    q += s\n",
    "                pbar.set_description(f\"r = {UVW.size(2)}, q = {q:_}, d = {deg.mean():.2f} ± {deg.std():.2f}\")\n",
    "                if q == N:\n",
    "                    break\n",
    "        else:\n",
    "            pbar.set_description(f\"d = {deg.mean():.2f} ± {deg.std():.2f}\")\n",
    "\n",
    "    if q > 0:\n",
    "        UVW = UVW_rf[:q].clone()\n",
    "        torch.save(UVW.cpu(), f\"data/uvw-n{n1}-r{UVW.size(2)}-tmp.pt\")\n",
    "        print(f\"# reducible : {UVW.size(0):_}\")\n",
    "        if not check_uvw(UVW, T, dims).min().item():\n",
    "            raise ValueError(\"Wrong decomposition detected.\")\n",
    "    else:\n",
    "        print(f\"No reducible & flippable states (r={UVW.size(2)}).\")\n",
    "        break"
   ]
  },
  {
   "cell_type": "code",
   "execution_count": 7,
   "id": "d3cf31d4",
   "metadata": {
    "ExecuteTime": {
     "end_time": "2025-02-23T21:04:40.744112Z",
     "start_time": "2025-02-23T21:04:40.727634Z"
    }
   },
   "outputs": [
    {
     "data": {
      "text/plain": [
       "True"
      ]
     },
     "execution_count": 7,
     "metadata": {},
     "output_type": "execute_result"
    }
   ],
   "source": [
    "check_uvw(UVW, T, dims).min().item()"
   ]
  },
  {
   "cell_type": "code",
   "execution_count": 12,
   "id": "a280a294",
   "metadata": {
    "ExecuteTime": {
     "end_time": "2025-02-23T21:05:18.215157Z",
     "start_time": "2025-02-23T21:05:18.198313Z"
    }
   },
   "outputs": [
    {
     "name": "stdout",
     "output_type": "stream",
     "text": [
      "U = \n",
      " [[1 1 1 0 0 1 0 1 0 1 0 1 0 0 0 0 0 0 0 0 0 0 0]\n",
      " [1 1 1 0 0 0 0 0 0 1 0 1 0 0 0 0 0 1 0 0 0 0 0]\n",
      " [1 1 1 0 0 0 0 0 1 0 1 1 0 0 0 1 0 0 0 0 0 0 0]\n",
      " [1 0 0 0 0 1 1 0 0 0 0 1 0 1 0 0 0 0 0 0 0 0 0]\n",
      " [0 0 0 0 0 0 0 0 0 0 0 1 1 0 1 0 0 0 0 0 0 0 0]\n",
      " [1 0 1 1 0 0 1 0 1 0 1 1 0 0 0 1 1 0 0 0 0 1 1]\n",
      " [0 0 0 1 1 1 1 0 1 0 0 0 0 0 0 0 0 0 0 1 1 0 0]\n",
      " [0 0 0 1 1 0 1 0 0 0 0 0 0 0 0 0 0 0 1 0 1 0 1]\n",
      " [0 0 0 1 1 0 1 0 0 0 0 0 0 0 0 1 0 0 0 0 1 1 1]]\n",
      "V = \n",
      " [[0 1 1 0 0 0 0 0 0 0 1 0 0 0 0 0 1 1 0 0 0 0 0]\n",
      " [0 0 1 0 0 0 0 1 0 1 1 0 0 0 0 0 1 1 0 0 0 0 0]\n",
      " [1 1 1 1 1 1 1 0 1 0 1 0 0 1 0 0 1 0 0 1 1 0 0]\n",
      " [1 1 1 0 0 0 0 0 0 0 0 1 0 0 1 0 1 0 0 0 0 0 0]\n",
      " [0 0 0 0 0 0 0 0 0 0 0 0 1 1 1 0 1 0 0 0 0 0 0]\n",
      " [1 1 1 1 1 0 1 0 0 0 0 1 0 1 0 0 1 0 0 0 1 0 0]\n",
      " [0 0 0 0 1 0 0 0 1 0 1 0 0 0 0 1 0 0 1 0 0 0 0]\n",
      " [0 0 0 1 0 0 0 0 0 0 0 0 0 0 0 0 1 0 0 1 0 1 1]\n",
      " [0 0 0 0 0 0 0 0 1 0 1 0 0 0 0 1 0 0 0 1 1 0 0]]\n",
      "W = \n",
      " [[1 0 1 1 0 0 1 1 1 0 1 0 0 0 0 0 0 1 0 1 0 0 1]\n",
      " [0 0 0 0 0 0 0 1 0 1 0 0 1 0 1 0 0 1 1 0 0 0 0]\n",
      " [0 1 1 1 1 0 0 0 1 1 1 0 0 0 0 0 0 0 1 1 0 0 1]\n",
      " [0 0 0 1 0 0 1 1 0 0 0 0 0 1 0 0 0 0 0 0 0 0 1]\n",
      " [0 0 0 0 0 0 0 1 0 1 0 0 1 0 0 0 0 0 0 0 0 1 1]\n",
      " [0 1 1 0 0 0 0 0 0 1 0 0 0 0 0 0 1 0 0 0 0 1 0]\n",
      " [0 0 0 1 0 1 1 0 0 0 0 0 0 0 0 0 0 0 0 1 0 0 1]\n",
      " [1 0 0 0 1 1 0 0 1 0 0 1 1 0 1 1 0 0 1 0 1 0 0]\n",
      " [0 0 0 1 1 0 0 0 1 0 0 0 0 0 0 1 0 0 1 1 0 0 1]]\n"
     ]
    }
   ],
   "source": [
    "U, V, W = (int2bin(M, d)[0].cpu().numpy().T for (M, d) in zip(UVW[:1].permute(1, 0, 2), dims))\n",
    "\n",
    "print(\"U = \\n\", U)\n",
    "print(\"V = \\n\", V)\n",
    "print(\"W = \\n\", W)"
   ]
  },
  {
   "cell_type": "code",
   "execution_count": null,
   "id": "31062cfe",
   "metadata": {},
   "outputs": [],
   "source": []
  }
 ],
 "metadata": {
  "kernelspec": {
   "display_name": "Python (ka1242_env)",
   "language": "python",
   "name": "ka1242_env"
  },
  "language_info": {
   "codemirror_mode": {
    "name": "ipython",
    "version": 3
   },
   "file_extension": ".py",
   "mimetype": "text/x-python",
   "name": "python",
   "nbconvert_exporter": "python",
   "pygments_lexer": "ipython3",
   "version": "3.9.16"
  }
 },
 "nbformat": 4,
 "nbformat_minor": 5
}
