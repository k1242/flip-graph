{
 "cells": [
  {
   "cell_type": "code",
   "execution_count": 31,
   "id": "1febdfc4",
   "metadata": {
    "ExecuteTime": {
     "end_time": "2025-02-23T20:44:29.210381Z",
     "start_time": "2025-02-23T20:44:28.721731Z"
    }
   },
   "outputs": [],
   "source": [
    "import os\n",
    "os.chdir(\"..\")\n",
    "\n",
    "import torch\n",
    "import numpy as np\n",
    "from tqdm import tqdm\n",
    "\n",
    "import matplotlib.pyplot as plt\n",
    "plt.rcParams[\"font.family\"] = \"serif\"\n",
    "\n",
    "from flipgraph import int2bin, bin2int, reconstruct\n",
    "from flipgraph import generate_triads_binary, build_tensor, check_uvw\n",
    "from flipgraph import flip, flippable, reduce, reducible"
   ]
  },
  {
   "cell_type": "code",
   "execution_count": 2,
   "id": "fbc2cd72",
   "metadata": {
    "ExecuteTime": {
     "end_time": "2025-02-23T20:39:16.636149Z",
     "start_time": "2025-02-23T20:39:16.631822Z"
    }
   },
   "outputs": [],
   "source": [
    "device = torch.device('cuda')"
   ]
  },
  {
   "cell_type": "code",
   "execution_count": 3,
   "id": "ef726a5a",
   "metadata": {
    "ExecuteTime": {
     "end_time": "2025-02-23T20:39:16.852919Z",
     "start_time": "2025-02-23T20:39:16.638376Z"
    }
   },
   "outputs": [],
   "source": [
    "n1 = 3\n",
    "n2 = 3\n",
    "n3 = 3\n",
    "\n",
    "dims = (n1 * n3, n1 * n2, n2 * n3)\n",
    "uvw_dtype = torch.int16 # should be ≥ max(dims)\n",
    "T = build_tensor(n1, n2, n3).to(device)"
   ]
  },
  {
   "cell_type": "code",
   "execution_count": 4,
   "id": "637c0562",
   "metadata": {
    "ExecuteTime": {
     "end_time": "2025-02-23T20:39:16.872412Z",
     "start_time": "2025-02-23T20:39:16.856610Z"
    }
   },
   "outputs": [
    {
     "name": "stdout",
     "output_type": "stream",
     "text": [
      "r = 27\n"
     ]
    }
   ],
   "source": [
    "N = 100_000\n",
    "\n",
    "UVW = generate_triads_binary(n1, n2, n3, dims, uvw_dtype)[None]\n",
    "r = UVW.size(2)\n",
    "ar_N = torch.arange(N, device=device)\n",
    "print(f\"{r = }\")\n",
    "\n",
    "UVW = UVW.to(device).repeat(N, 1, 1)"
   ]
  },
  {
   "cell_type": "code",
   "execution_count": 5,
   "id": "ead93b9e",
   "metadata": {
    "ExecuteTime": {
     "end_time": "2025-02-23T20:39:16.875911Z",
     "start_time": "2025-02-23T20:39:16.873481Z"
    }
   },
   "outputs": [],
   "source": [
    "os.makedirs(\"data\", exist_ok=True)"
   ]
  },
  {
   "cell_type": "code",
   "execution_count": 6,
   "id": "942d5bbb",
   "metadata": {
    "ExecuteTime": {
     "end_time": "2025-02-23T20:39:28.699703Z",
     "start_time": "2025-02-23T20:39:16.877079Z"
    }
   },
   "outputs": [
    {
     "name": "stderr",
     "output_type": "stream",
     "text": [
      "r = 27, q = 100_000, d = 18.42 ± 2.75:  62%|██████▏   | 616/1000 [00:01<00:00, 407.14it/s]\n"
     ]
    },
    {
     "name": "stdout",
     "output_type": "stream",
     "text": [
      "# reducible : 100_000\n"
     ]
    },
    {
     "name": "stderr",
     "output_type": "stream",
     "text": [
      "r = 26, q = 100_000, d = 15.15 ± 2.53:  59%|█████▉    | 593/1000 [00:02<00:01, 291.23it/s]\n"
     ]
    },
    {
     "name": "stdout",
     "output_type": "stream",
     "text": [
      "# reducible : 100_000\n"
     ]
    },
    {
     "name": "stderr",
     "output_type": "stream",
     "text": [
      "r = 25, q = 100_000, d = 11.94 ± 2.21:  63%|██████▎   | 626/1000 [00:02<00:01, 237.03it/s]\n"
     ]
    },
    {
     "name": "stdout",
     "output_type": "stream",
     "text": [
      "# reducible : 100_000\n"
     ]
    },
    {
     "name": "stderr",
     "output_type": "stream",
     "text": [
      "r = 24, q = 100_000, d = 8.54 ± 1.84:  67%|██████▋   | 671/1000 [00:02<00:01, 241.02it/s]\n"
     ]
    },
    {
     "name": "stdout",
     "output_type": "stream",
     "text": [
      "# reducible : 100_000\n"
     ]
    },
    {
     "name": "stderr",
     "output_type": "stream",
     "text": [
      "d = 5.29 ± 1.29: 100%|██████████| 1000/1000 [00:02<00:00, 386.77it/s]"
     ]
    },
    {
     "name": "stdout",
     "output_type": "stream",
     "text": [
      "No reducible & flippable states (r=23).\n"
     ]
    },
    {
     "name": "stderr",
     "output_type": "stream",
     "text": [
      "\n"
     ]
    }
   ],
   "source": [
    "L = 1000\n",
    "remove_unflippable = True\n",
    "\n",
    "for _ in range(18):\n",
    "    if UVW.size(0) != N:\n",
    "        idx = torch.randint(0, UVW.size(0), (N,), device=device)\n",
    "        UVW = UVW[idx].clone()\n",
    "\n",
    "    q = 0\n",
    "    UVW_rf = torch.zeros((N, 3, UVW.size(2)-1), device=UVW.device, dtype=UVW.dtype)\n",
    "    pbar = tqdm(range(L))\n",
    "    for j in pbar:\n",
    "        deg = flip(UVW)\n",
    "        deg = deg.float()\n",
    "        \n",
    "        if j > 500:\n",
    "            reducible_mask = reducible(UVW)\n",
    "            if reducible_mask.sum() > 0:\n",
    "                UVW_reduced = reduce(UVW[reducible_mask])\n",
    "                if remove_unflippable:\n",
    "                    UVW_reduced = UVW_reduced[flippable(UVW_reduced)]\n",
    "                s = min(UVW_reduced.size(0), N-q)\n",
    "                if s > 0:\n",
    "                    UVW_rf[q:q+s] = UVW_reduced[:s]\n",
    "                    q += s\n",
    "                pbar.set_description(f\"r = {UVW.size(2)}, q = {q:_}, d = {deg.mean():.2f} ± {deg.std():.2f}\")\n",
    "                if q == N:\n",
    "                    break\n",
    "        else:\n",
    "            pbar.set_description(f\"d = {deg.mean():.2f} ± {deg.std():.2f}\")\n",
    "\n",
    "    if q > 0:\n",
    "        UVW = UVW_rf[:q].clone()\n",
    "        torch.save(UVW.cpu(), f\"data/uvw-n{n1}-r{UVW.size(2)}-tmp.pt\")\n",
    "        print(f\"# reducible : {UVW.size(0):_}\")\n",
    "        if not check_uvw(UVW, T, dims).min().item():\n",
    "            raise ValueError(\"Wrong decomposition detected.\")\n",
    "    else:\n",
    "        print(f\"No reducible & flippable states (r={UVW.size(2)}).\")\n",
    "        break"
   ]
  },
  {
   "cell_type": "code",
   "execution_count": 26,
   "id": "d3cf31d4",
   "metadata": {
    "ExecuteTime": {
     "end_time": "2025-02-23T20:42:54.930300Z",
     "start_time": "2025-02-23T20:42:54.914954Z"
    }
   },
   "outputs": [
    {
     "data": {
      "text/plain": [
       "True"
      ]
     },
     "execution_count": 26,
     "metadata": {},
     "output_type": "execute_result"
    }
   ],
   "source": [
    "check_uvw(UVW, T, dims).min().item()"
   ]
  },
  {
   "cell_type": "code",
   "execution_count": 42,
   "id": "a280a294",
   "metadata": {
    "ExecuteTime": {
     "end_time": "2025-02-23T20:47:26.264010Z",
     "start_time": "2025-02-23T20:47:26.024147Z"
    }
   },
   "outputs": [
    {
     "data": {
      "image/png": "[encoded data removed]",
      "text/plain": [
       "<Figure size 600x600 with 3 Axes>"
      ]
     },
     "metadata": {},
     "output_type": "display_data"
    }
   ],
   "source": [
    "U, V, W = (int2bin(M, d)[0].cpu() for (M, d) in zip(UVW[:1].permute(1, 0, 2), dims))\n",
    "\n",
    "fig, (ax_u, ax_v, ax_w) = plt.subplots(1, 3, figsize=(6,6))\n",
    "ax_u.matshow(U, cmap='Blues')\n",
    "ax_v.matshow(V, cmap='Blues')\n",
    "ax_w.matshow(W, cmap='Blues')\n",
    "\n",
    "ax_u.set_title(\"U\")\n",
    "ax_v.set_title(\"V\")\n",
    "ax_w.set_title(\"W\")\n",
    "\n",
    "for ax in (ax_u, ax_v, ax_w):\n",
    "    ax.set_xticks([])\n",
    "    ax.set_yticks([])"
   ]
  },
  {
   "cell_type": "code",
   "execution_count": null,
   "id": "31062cfe",
   "metadata": {},
   "outputs": [],
   "source": []
  }
 ],
 "metadata": {
  "kernelspec": {
   "display_name": "Python (ka1242_env)",
   "language": "python",
   "name": "ka1242_env"
  },
  "language_info": {
   "codemirror_mode": {
    "name": "ipython",
    "version": 3
   },
   "file_extension": ".py",
   "mimetype": "text/x-python",
   "name": "python",
   "nbconvert_exporter": "python",
   "pygments_lexer": "ipython3",
   "version": "3.9.16"
  }
 },
 "nbformat": 4,
 "nbformat_minor": 5
}
