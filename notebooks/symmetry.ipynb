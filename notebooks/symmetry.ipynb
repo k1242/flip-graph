{
 "cells": [
  {
   "cell_type": "code",
   "execution_count": 1,
   "id": "95d72884-0405-4352-a3b8-7f86737c1a6d",
   "metadata": {},
   "outputs": [],
   "source": [
    "import os\n",
    "os.chdir(\"..\")\n",
    "\n",
    "import torch\n",
    "import numpy as np\n",
    "\n",
    "from coin.utils import build_tensor, generate_partitions\n",
    "from coin.utils import generate_triads"
   ]
  },
  {
   "cell_type": "code",
   "execution_count": 2,
   "id": "65b0bb0e-5629-4b2b-8ca4-82e7ba676100",
   "metadata": {},
   "outputs": [],
   "source": [
    "# n = 4\n",
    "# U, V, W = generate_triads(n,n,n)\n",
    "# T = U.view(-1, n**2, 1, 1) * V.view(-1, 1, n**2, 1) * W.view(-1, 1, 1, n**2)"
   ]
  },
  {
   "cell_type": "code",
   "execution_count": 3,
   "id": "d57e4b64-f7d4-4191-96ac-7309eaa43ee3",
   "metadata": {},
   "outputs": [],
   "source": [
    "import matplotlib.pyplot as plt\n",
    "\n",
    "def plot_tensor(T, n):\n",
    "    fig, axs = plt.subplots(n,n, figsize=(4,4))\n",
    "    for (ax, m) in zip(axs.flat, T):\n",
    "        ax.matshow(m)\n",
    "        ax.axis('off')\n",
    "    plt.tight_layout()\n",
    "    plt.show()"
   ]
  },
  {
   "cell_type": "code",
   "execution_count": 4,
   "id": "0475e806-ce2f-4b37-a3d4-278a0f04fe1a",
   "metadata": {},
   "outputs": [],
   "source": [
    "def tensor_product(U, V, W):\n",
    "    r = U.size(0)\n",
    "    n1, n2, n3 = U.size(1), V.size(1), W.size(1)\n",
    "    return U.view(r, n1, 1, 1) * V.view(r, 1, n2, 1) * W.view(r, 1, 1, n3)\n",
    "\n",
    "def triads_decompose(T):\n",
    "    nonzero = T.nonzero()\n",
    "    r = len(nonzero)\n",
    "    \n",
    "    U = torch.zeros((r, T.size(0)), dtype=torch.int8)\n",
    "    V = torch.zeros((r, T.size(1)), dtype=torch.int8)\n",
    "    W = torch.zeros((r, T.size(2)), dtype=torch.int8)\n",
    "    for (p, (i,j,k)) in enumerate(nonzero):\n",
    "        U[p, i], V[p, j], W[p, k] = 1, 1, 1\n",
    "\n",
    "    return (U, V, W)"
   ]
  },
  {
   "cell_type": "code",
   "execution_count": 251,
   "id": "1c200576-ff0c-473b-ace0-9b4a137a26f5",
   "metadata": {},
   "outputs": [],
   "source": [
    "def get_unique_hashed_idx(hashed):\n",
    "    \"\"\"Filter unique hashed orbits by removing duplicates\"\"\"\n",
    "    idx1 = torch.arange(hashed.size(0), dtype=torch.int64, device=hashed.device)\n",
    "    hashed_sorted, idx2 = torch.sort(hashed)\n",
    "    mask = torch.concat((torch.tensor([True], device=hashed.device), hashed_sorted[1:] - hashed_sorted[:-1] > 0))\n",
    "    return idx1[idx2[mask]] "
   ]
  },
  {
   "cell_type": "markdown",
   "id": "461f6f16-dab3-4806-a940-3c25ccf4c8ba",
   "metadata": {},
   "source": [
    "## Starting Point"
   ]
  },
  {
   "cell_type": "code",
   "execution_count": 826,
   "id": "ae6217f7-e7ab-4bc5-8312-2f96ed8687b6",
   "metadata": {},
   "outputs": [
    {
     "name": "stdout",
     "output_type": "stream",
     "text": [
      "partition = [[1], [2, 3]]\n",
      "#nonzero(Mn):   27\n",
      "#nonzero(rest): 30\n"
     ]
    }
   ],
   "source": [
    "n = 3\n",
    "sym = 3\n",
    "Mn = build_tensor(n,n,n)\n",
    "\n",
    "tranpose_c = torch.arange(n**2).view(n,n).T.reshape(-1)\n",
    "Mn = Mn[tranpose_c]\n",
    "\n",
    "partition = generate_partitions(n, sym=sym)[1]\n",
    "print(f\"{partition = }\")\n",
    "vec = torch.zeros((len(partition), n*n), dtype=torch.int8)\n",
    "for (j, p) in enumerate(partition):\n",
    "    for i in p:\n",
    "        vec[j, n*(i-1) + (i-1)] = 1\n",
    "ten_sym = tensor_product(vec, vec, vec).sum(dim=0)\n",
    "\n",
    "rest = (Mn - ten_sym) % 2\n",
    "print(f\"#nonzero(Mn):   {len(Mn.nonzero())}\")\n",
    "print(f\"#nonzero(rest): {len(rest.nonzero())}\")\n",
    "\n",
    "# plot_tensor(rest, n)"
   ]
  },
  {
   "cell_type": "code",
   "execution_count": 827,
   "id": "e5c6e948-0cdd-4a41-ba9f-75411aa6e681",
   "metadata": {},
   "outputs": [
    {
     "name": "stdout",
     "output_type": "stream",
     "text": [
      "UVW_mapped.shape = torch.Size([3, 3, 30, 9])\n",
      "n_orbits     = 10\n",
      "n_orbits*sym = 30\n"
     ]
    }
   ],
   "source": [
    "UVW = triads_decompose(rest)\n",
    "U, V, W = UVW\n",
    "UVW = torch.stack((U,V,W))\n",
    "# (tensor_product(*UVW).sum(dim=0) == rest).all()\n",
    "\n",
    "UVW_p00 = UVW[[0,1,2]]\n",
    "UVW_p10 = UVW[[1,2,0]]\n",
    "UVW_p20 = UVW[[2,0,1]]\n",
    "permute_z2 = torch.arange(n**2).flip(0)\n",
    "if sym == 6:\n",
    "    UVW_p01 = UVW_p00[:, :, permute_z2]\n",
    "    UVW_p11 = UVW_p10[:, :, permute_z2]\n",
    "    UVW_p21 = UVW_p20[:, :, permute_z2]\n",
    "    UVW_mapped = torch.stack((UVW_p00, UVW_p10, UVW_p20, UVW_p01, UVW_p11, UVW_p21))\n",
    "else:\n",
    "    UVW_mapped = torch.stack((UVW_p00, UVW_p10, UVW_p20))\n",
    "\n",
    "print(f\"{UVW_mapped.shape = }\")\n",
    "\n",
    "hash_lim = int(1e9)\n",
    "hash_mask = torch.randint(0, hash_lim, (1, 1, 3 * n**2), dtype=torch.int64)\n",
    "UVW_mapped_flat = UVW_mapped.permute(0,2,1,3).reshape(sym, -1, 3 * n**2)\n",
    "UVW_hashed = (UVW_mapped_flat * hash_mask).sum(dim=2)\n",
    "# n_orbits = UVW_hashed.sum(dim=(0,1,3)).unique().size(0)\n",
    "UVW_hashed_sort = torch.sort(UVW_hashed, dim=0).values\n",
    "n_orbits = UVW_hashed_sort.unique(dim=1).size(1)\n",
    "print(f\"{n_orbits     = }\")\n",
    "print(f\"{n_orbits*sym = }\")\n",
    "\n",
    "unique_idx = get_unique_hashed_idx(UVW_hashed_sort[0])\n",
    "start_point = UVW_mapped.permute(2,0,1,3)[unique_idx] # (orbits, sym, uvw, n²)  \n",
    "start_point = start_point[:, :, 0] # (orbits, sym, n²) "
   ]
  },
  {
   "cell_type": "markdown",
   "id": "7c947b8e-7b97-49ff-843b-70aed23f2cd7",
   "metadata": {},
   "source": [
    "## Additional data"
   ]
  },
  {
   "cell_type": "code",
   "execution_count": 828,
   "id": "efc9ced8-4aa2-447a-a386-aaec7f10d4e2",
   "metadata": {},
   "outputs": [],
   "source": [
    "# (orbits, sym, n²) \n",
    "# print(f\"{start_point.shape = }\")\n",
    "\n",
    "# pow2 = 1 << torch.arange(n**2, dtype=torch.int8).flip(0)\n",
    "# pow2 = pow2.reshape(1, 1, -1)\n",
    "\n",
    "# start_point_bin = (start_point.long() * pow2).sum(dim=2)"
   ]
  },
  {
   "cell_type": "code",
   "execution_count": 829,
   "id": "fc027097-791d-4f95-bc9d-0e486e2d2ed8",
   "metadata": {},
   "outputs": [],
   "source": [
    "def get_eq_idx(scheme):\n",
    "    r, sym, n2 = scheme.shape\n",
    "    eq_idx = (\n",
    "        scheme.view(r, 1, 1, sym, n2) == scheme.view(1, r, sym, 1, n2)\n",
    "    ).all(dim=-1).nonzero() # (orb1, orb2, sym2, sym1) ? for some reason\n",
    "    eq_idx = eq_idx[eq_idx[:, 0] < eq_idx[:, 1]] # filter eq in same orbit and purmutation\n",
    "    eq_idx = eq_idx[:, [0,3,1,2]] # (orb1, sym1, orb2, sym2)\n",
    "    return eq_idx\n",
    "\n",
    "def check_scheme(scheme):\n",
    "    U, V, W = torch.concat((scheme[:, [0,1,2]], scheme[:, [1,2,0]], scheme[:, [2,0,1]]), dim=0).permute(1,0,2) # (uvw, tensors, n²)\n",
    "    return (tensor_product(U, V, W).sum(dim=0)%2 == rest).all().item()\n",
    "\n",
    "from random import randint\n",
    "def flip(scheme):\n",
    "    eq_idx = get_eq_idx(scheme)\n",
    "    if get_eq_idx(scheme).size(0):\n",
    "        o1, s1, o2, s2 = eq_idx[randint(0, eq_idx.size(0)-1)]\n",
    "        scheme[o1, (s1+1)%3] ^= scheme[o2, (s2+1)%3]\n",
    "        scheme[o2, (s2+2)%3] ^= scheme[o1, (s1+2)%3]\n",
    "        return True\n",
    "    else:\n",
    "        return False"
   ]
  },
  {
   "cell_type": "code",
   "execution_count": 830,
   "id": "6d7b16a6-d236-444c-ae08-cbb0170b6f19",
   "metadata": {},
   "outputs": [],
   "source": [
    "# r = start_point.size(0)\n",
    "# eq_idx = (\n",
    "#     start_point.view(r, 1, 1, sym, n**2) == start_point.view(1, r, sym, 1, n**2)\n",
    "# ).all(dim=-1).nonzero() # (orb1, orb2, sym2, sym1) ? for some reason\n",
    "# eq_idx = eq_idx[eq_idx[:, 0] < eq_idx[:, 1]] # filter eq in same orbit and purmutation\n",
    "# eq_idx = eq_idx[:, [0,3,1,2]] # (orb1, sym1, orb2, sym2)\n",
    "# eq_idx = get_eq_idx(start_point)\n",
    "# eq_idx"
   ]
  },
  {
   "cell_type": "code",
   "execution_count": 831,
   "id": "a8472ef2-bb87-4d4d-81b8-d52c7783afcf",
   "metadata": {},
   "outputs": [],
   "source": [
    "from tqdm import tqdm"
   ]
  },
  {
   "cell_type": "code",
   "execution_count": 865,
   "id": "7fa907c2-a0e1-4e75-9ffa-b7adeee909a5",
   "metadata": {},
   "outputs": [
    {
     "name": "stdout",
     "output_type": "stream",
     "text": [
      "step 10000, # orbits = 7\n",
      "check_scheme(scheme) = True\n",
      "rank = 23\n"
     ]
    }
   ],
   "source": [
    "scheme = start_point.clone()\n",
    "for j in range(1, 10000+1):\n",
    "    flippable = flip(scheme)\n",
    "    if (scheme.sum(dim=2)==0).any():\n",
    "        scheme = scheme[~(scheme.sum(dim=2)==0).any(dim=1)]\n",
    "    if not flippable:\n",
    "        break\n",
    "\n",
    "rank = scheme.size(0) * sym + len(partition)\n",
    "\n",
    "print(f\"step {j}, # orbits = {scheme.size(0)}\")\n",
    "print(f\"{check_scheme(scheme) = }\")\n",
    "print(f\"{rank = }\")"
   ]
  },
  {
   "cell_type": "code",
   "execution_count": null,
   "id": "24641059-0e2b-4a41-b3e8-aaaba25f34a2",
   "metadata": {},
   "outputs": [],
   "source": []
  },
  {
   "cell_type": "code",
   "execution_count": 641,
   "id": "1b1ab4c1-2e8e-4839-a99b-6158c2cf3cd5",
   "metadata": {},
   "outputs": [],
   "source": [
    "# sym scheme -> Mn"
   ]
  },
  {
   "cell_type": "code",
   "execution_count": 504,
   "id": "f099675a-5a90-460b-8c32-9819ff4d4b2f",
   "metadata": {},
   "outputs": [],
   "source": [
    "# (orbits, sym, n²)\n",
    "# if sym==3: (orbits, uvw, n²)\n",
    "\n",
    "# restore rest from UVW in sym==3\n",
    "# U, V, W = torch.concat((scheme[:, [0,1,2]], scheme[:, [1,2,0]], scheme[:, [2,0,1]]), dim=0).permute(1,0,2) # (uvw, tensors, n²)\n",
    "# (tensor_product(U, V, W).sum(dim=0) == rest).all().item()"
   ]
  },
  {
   "cell_type": "code",
   "execution_count": null,
   "id": "09ac9fed-b270-478b-85ba-7039ae6a5abc",
   "metadata": {},
   "outputs": [],
   "source": []
  },
  {
   "cell_type": "code",
   "execution_count": null,
   "id": "b957a848-59c8-4153-8a5a-400e3783464b",
   "metadata": {},
   "outputs": [],
   "source": []
  },
  {
   "cell_type": "code",
   "execution_count": null,
   "id": "b01f7136-d718-4bf1-8d08-f0efc1d21f19",
   "metadata": {},
   "outputs": [],
   "source": []
  },
  {
   "cell_type": "markdown",
   "id": "db5af1e4-9078-4225-a68a-dac95cf30173",
   "metadata": {},
   "source": [
    "## Flip"
   ]
  },
  {
   "cell_type": "code",
   "execution_count": 349,
   "id": "ed594ad6-ec81-47a3-b7d1-c9a54727c0f6",
   "metadata": {},
   "outputs": [],
   "source": [
    "# орбит будет много, flip влияет только на пару \n",
    "# =>\n",
    "# имеет смысл хранить множители и где они встречаются\n",
    "# а после flip только для измененных проводить поиск"
   ]
  },
  {
   "cell_type": "code",
   "execution_count": 350,
   "id": "7ae51435-523e-4d2f-acab-6380dfa9f6d2",
   "metadata": {},
   "outputs": [
    {
     "data": {
      "text/plain": [
       "torch.Size([4, 3, 3, 4])"
      ]
     },
     "execution_count": 350,
     "metadata": {},
     "output_type": "execute_result"
    }
   ],
   "source": [
    "start_point.shape"
   ]
  },
  {
   "cell_type": "code",
   "execution_count": 357,
   "id": "f83a7a22-9bc8-4fe3-98f3-39b736bdd6c5",
   "metadata": {},
   "outputs": [],
   "source": [
    "T1 = start_point[0, :, 0, :].clone()\n",
    "T2 = start_point[1, :, 0, :].clone()\n",
    "\n",
    "k1 = 0\n",
    "k2 = 0\n",
    "# +1 and +2 can be changed\n",
    "T1[(k1+1)%3] ^= T2[(k2+1)%3]\n",
    "T2[(k2+2)%3] ^= T1[(k1+2)%3]"
   ]
  },
  {
   "cell_type": "code",
   "execution_count": null,
   "id": "6375128d-fddd-45a5-b3ae-9afbff3d5e35",
   "metadata": {},
   "outputs": [],
   "source": []
  },
  {
   "cell_type": "code",
   "execution_count": 335,
   "id": "7b3746c5-d594-4bb8-9bc3-b7df3220da74",
   "metadata": {},
   "outputs": [],
   "source": [
    "\"\"\"\n",
    "a⊗b1⊗c1 + b1⊗c1⊗a + c1⊗a⊗b1 + a'⊗b1'⊗c1' + b1'⊗c1'⊗a' + c1'⊗a'⊗b1'\n",
    "a⊗.. + b1⊗.. + c1⊗.. + a'⊗.. + b1'⊗.. + c1'⊗..\n",
    "flip\n",
    "a⊗b2⊗c2 + b2⊗c2⊗a + c2⊗a⊗b2 + a'⊗b2'⊗c2' + b2'⊗c2'⊗a' + c2'⊗a'⊗b2'\n",
    "a⊗.. + b2⊗.. + c2⊗.. + a'⊗.. + b2'⊗.. + c2'⊗..\n",
    "=\n",
    "a⊗(b1^b2)⊗c1 + (b1^b2)⊗c1⊗a + c1⊗a⊗(b1^b2) + a'⊗(b1^b2)'⊗c1' + (b1^b2)'⊗c1'⊗a' + c1'⊗a'⊗(b1^b2)'\n",
    "a⊗b2⊗(c2^c1) + b2⊗(c2^c1)⊗a + (c2^c1)⊗a⊗b2 + a'⊗b2'⊗(c2^c1)' + b2'⊗(c2^c1)'⊗a' + (c2^c1)'⊗a'⊗b2'\n",
    "~\n",
    "a⊗.. + (b1^b2)⊗.. + c1⊗.. + a'⊗.. + (b1^b2)'⊗.. + c1'⊗..\n",
    "a⊗.. + b2⊗.. + (c2^c1)⊗.. + a'⊗.. + b2'⊗.. + (c2^c1)'⊗..\n",
    "\"\"\";"
   ]
  },
  {
   "cell_type": "code",
   "execution_count": 352,
   "id": "b313e103-761c-4454-878d-478dbf4e5bca",
   "metadata": {},
   "outputs": [],
   "source": [
    "\"\"\"\n",
    "a1⊗.. + x⊗.. + c1⊗.. + ?...'\n",
    "flip\n",
    "a2⊗.. + b2⊗.. + x⊗.. + ?...'\n",
    "=\n",
    "x⊗.. + c1⊗.. + a1⊗.. + ?...'\n",
    "flip\n",
    "x⊗.. + a2⊗.. + b2⊗.. + ?...'\n",
    "=\n",
    "x⊗.. + (c1^a2)⊗.. + a1⊗.. + ?...'\n",
    "x⊗.. + a2⊗.. + (b2^a1)⊗.. + ?...'\n",
    "\"\"\";"
   ]
  },
  {
   "cell_type": "code",
   "execution_count": null,
   "id": "e44f5ce1-6e45-4fe2-a795-083b97a29e87",
   "metadata": {},
   "outputs": [],
   "source": [
    "\"\"\"\n",
    "a⊗.. + b1⊗.. + c1⊗.. + a'⊗.. + b1'⊗.. + c1'⊗..\n",
    "flip\n",
    "a⊗.. + b2⊗.. + c2⊗.. + a'⊗.. + b2'⊗.. + c2'⊗..\n",
    "=\n",
    "a⊗.. + (b1^b2)⊗.. + c1⊗.. + a'⊗.. + (b1^b2)'⊗.. + c1'⊗..\n",
    "a⊗.. + b2⊗.. + (c2^c1)⊗.. + a'⊗.. + b2'⊗.. + (c2^c1)'⊗..\n",
    "\"\"\";"
   ]
  },
  {
   "cell_type": "code",
   "execution_count": null,
   "id": "60d8247c-00ec-4489-ab4e-f5f8963fafd2",
   "metadata": {},
   "outputs": [],
   "source": []
  },
  {
   "cell_type": "code",
   "execution_count": null,
   "id": "c326ac6f-c3ae-4c88-aa25-cee9e9703cb1",
   "metadata": {},
   "outputs": [],
   "source": []
  },
  {
   "cell_type": "code",
   "execution_count": null,
   "id": "e173376f-62d7-4c13-9914-329db5a35e27",
   "metadata": {},
   "outputs": [],
   "source": []
  },
  {
   "cell_type": "code",
   "execution_count": null,
   "id": "23c0d812-77b3-4770-8369-ee6956ea1fe9",
   "metadata": {},
   "outputs": [],
   "source": []
  },
  {
   "cell_type": "code",
   "execution_count": null,
   "id": "a9f4c932-4530-4731-ba2f-4a61f4f5022c",
   "metadata": {},
   "outputs": [],
   "source": []
  },
  {
   "cell_type": "code",
   "execution_count": 192,
   "id": "d4f6e0f2-99e7-4452-9b0c-6a0ef84ada9c",
   "metadata": {},
   "outputs": [
    {
     "data": {
      "text/plain": [
       "torch.Size([3, 12, 4])"
      ]
     },
     "execution_count": 192,
     "metadata": {},
     "output_type": "execute_result"
    }
   ],
   "source": [
    "UVW.shape"
   ]
  },
  {
   "cell_type": "code",
   "execution_count": 193,
   "id": "5a221693-6bdd-4424-af43-d339d0674055",
   "metadata": {},
   "outputs": [
    {
     "data": {
      "text/plain": [
       "torch.Size([3, 2, 4])"
      ]
     },
     "execution_count": 193,
     "metadata": {},
     "output_type": "execute_result"
    }
   ],
   "source": [
    "UVW[:, :2, :].shape"
   ]
  },
  {
   "cell_type": "code",
   "execution_count": 191,
   "id": "dc3a5e8f-cba5-4f89-bb08-dd5404307279",
   "metadata": {},
   "outputs": [],
   "source": [
    "# torch.sort(UVW_hashed, dim=0).values.T"
   ]
  },
  {
   "cell_type": "code",
   "execution_count": null,
   "id": "0685e2b7-6655-4adb-855f-0738bd576321",
   "metadata": {},
   "outputs": [],
   "source": []
  },
  {
   "cell_type": "code",
   "execution_count": null,
   "id": "30d966f1-c279-4c7e-872e-bf32fe5adfc1",
   "metadata": {},
   "outputs": [],
   "source": []
  },
  {
   "cell_type": "code",
   "execution_count": null,
   "id": "477b0f38-37aa-4871-b3bf-fef02fb504e6",
   "metadata": {},
   "outputs": [],
   "source": []
  },
  {
   "cell_type": "code",
   "execution_count": null,
   "id": "1f6b6ca2-f20d-414b-a233-dd397ccea60f",
   "metadata": {},
   "outputs": [],
   "source": []
  },
  {
   "cell_type": "code",
   "execution_count": null,
   "id": "1e02979d-d046-44f5-ae71-8a001e31bfc2",
   "metadata": {},
   "outputs": [],
   "source": []
  },
  {
   "cell_type": "code",
   "execution_count": null,
   "id": "ff300eb6-9cee-48ff-bacf-c944bd6a6a57",
   "metadata": {},
   "outputs": [],
   "source": []
  },
  {
   "cell_type": "code",
   "execution_count": null,
   "id": "ebf80b7f-c636-4add-9c79-e511554d6a5a",
   "metadata": {},
   "outputs": [],
   "source": []
  },
  {
   "cell_type": "code",
   "execution_count": null,
   "id": "530fcad4-f37a-4c4b-a5a0-375736fdec2f",
   "metadata": {},
   "outputs": [],
   "source": []
  },
  {
   "cell_type": "code",
   "execution_count": null,
   "id": "f625ee09-1779-4c5f-a5b1-217119b6bc24",
   "metadata": {},
   "outputs": [],
   "source": []
  },
  {
   "cell_type": "code",
   "execution_count": null,
   "id": "c6855391-063e-4718-8305-cbc49c2f8542",
   "metadata": {},
   "outputs": [],
   "source": []
  },
  {
   "cell_type": "code",
   "execution_count": null,
   "id": "1780de31-fee5-494c-8db8-2bc7d60b7bea",
   "metadata": {},
   "outputs": [],
   "source": []
  },
  {
   "cell_type": "code",
   "execution_count": null,
   "id": "7e065653-f3bf-4347-934a-801fca0726c6",
   "metadata": {},
   "outputs": [],
   "source": []
  },
  {
   "cell_type": "code",
   "execution_count": 178,
   "id": "348b4563-4348-41f4-8d12-85d75eb67a41",
   "metadata": {},
   "outputs": [],
   "source": [
    "# U = torch.tensor([[1,0,0,1],[1,0,0,0],[0,0,1,1],[0,1,0,-1],[0,0,0,1],[1,1,0,0],[-1,0,1,0]])\n",
    "# V = torch.tensor([[1,0,0,1],[0,1,0,-1],[1,0,0,0],[0,0,1,1],[-1,0,1,0],[0,0,0,1],[1,1,0,0]])\n",
    "# W = torch.tensor([[1,0,0,1],[0,0,1,1],[0,1,0,-1],[1,0,0,0],[1,1,0,0],[-1,0,1,0],[0,0,0,1]])\n",
    "# tensor_product(U,V,W).sum(dim=0)"
   ]
  },
  {
   "cell_type": "code",
   "execution_count": null,
   "id": "43257ca3-9885-419e-b8f4-ad7366ba4198",
   "metadata": {},
   "outputs": [],
   "source": []
  },
  {
   "cell_type": "code",
   "execution_count": null,
   "id": "99977079-583d-47c9-b249-a2845f73493d",
   "metadata": {},
   "outputs": [],
   "source": []
  },
  {
   "cell_type": "code",
   "execution_count": null,
   "id": "1d2dae1c-ada5-4356-a9c7-168ea3c550eb",
   "metadata": {},
   "outputs": [],
   "source": []
  },
  {
   "cell_type": "code",
   "execution_count": null,
   "id": "a543b4c9-df0b-49b2-8916-5ccd88135a50",
   "metadata": {},
   "outputs": [],
   "source": []
  }
 ],
 "metadata": {
  "kernelspec": {
   "display_name": "Python 3 (ipykernel)",
   "language": "python",
   "name": "python3"
  },
  "language_info": {
   "codemirror_mode": {
    "name": "ipython",
    "version": 3
   },
   "file_extension": ".py",
   "mimetype": "text/x-python",
   "name": "python",
   "nbconvert_exporter": "python",
   "pygments_lexer": "ipython3",
   "version": "3.12.7"
  }
 },
 "nbformat": 4,
 "nbformat_minor": 5
}
